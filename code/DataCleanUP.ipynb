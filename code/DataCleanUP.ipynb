{
 "cells": [
  {
   "cell_type": "code",
   "execution_count": null,
   "id": "537d730b-e05c-46d3-916d-27067f7f52c5",
   "metadata": {},
   "outputs": [],
   "source": [
    "import os\n",
    "API_KEY=\n",
    "from openai import OpenAI\n",
    "\n",
    "openai_api_key = API_KEY\n",
    "openai_api_base = \"https://api.lambdalabs.com/v1\"\n",
    "\n",
    "client = OpenAI(\n",
    "    api_key=openai_api_key,\n",
    "    base_url=openai_api_base,\n",
    ")\n",
    "\n",
    "client.models.list()\n",
    "# iterate over the list"
   ]
  }
 ],
 "metadata": {
  "kernelspec": {
   "display_name": "Python 3 (ipykernel)",
   "language": "python",
   "name": "python3"
  },
  "language_info": {
   "codemirror_mode": {
    "name": "ipython",
    "version": 3
   },
   "file_extension": ".py",
   "mimetype": "text/x-python",
   "name": "python",
   "nbconvert_exporter": "python",
   "pygments_lexer": "ipython3",
   "version": "3.10.12"
  }
 },
 "nbformat": 4,
 "nbformat_minor": 5
}
